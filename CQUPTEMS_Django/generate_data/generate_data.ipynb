{
 "cells": [
  {
   "cell_type": "code",
   "execution_count": 3,
   "metadata": {},
   "outputs": [],
   "source": [
    "\"\"\"\n",
    "导入需要的库\n",
    "\"\"\"\n",
    "import csv\n",
    "import datetime\n",
    "\n"
   ]
  },
  {
   "cell_type": "code",
   "execution_count": 2,
   "metadata": {},
   "outputs": [],
   "source": [
    "\"\"\"\n",
    "这块内容已经被执行了,不需要再执行\n",
    "向packages_information.csv 中写入表头数据\n",
    "\"\"\"\n",
    "filename=\"./packages_information.csv\"\n",
    "f=open(filename,'a+')\n",
    "\"\"\"\n",
    "package_id表示包裹的ID,具有唯一性\n",
    "package_owner表示包裹的所有者\n",
    "ship_address表示发货地址\n",
    "express_company表示承运该包裹的快递公司\n",
    "inbound_time表示入站时间\n",
    "\"\"\"\n",
    "table_head_row=\"package_id,package_owner,ship_address,express_company,inbound_time\"\n",
    "f.write(table_head_row)\n",
    "\n",
    "f.close()"
   ]
  },
  {
   "cell_type": "code",
   "execution_count": null,
   "metadata": {},
   "outputs": [],
   "source": [
    "#将生成的数据写入当前目录的packages_information.csv文件中,主要生成的是包裹的信息\n",
    "filename=\"./packages_information.csv\"\n",
    "#以追加写形式打开csv文件,追加写不会修改已将存在csv中的内容,只会在结尾添加\n",
    "f=open(filename,'a+')\n",
    "\n",
    "\n",
    "\n",
    "f.close()"
   ]
  }
 ],
 "metadata": {
  "interpreter": {
   "hash": "9f14dabeff85c9722c6470b291f2ad493b57714dfb9b935c93f4f8ae66592bc2"
  },
  "kernelspec": {
   "display_name": "Python 3.10.4 ('CQUPTEMS')",
   "language": "python",
   "name": "python3"
  },
  "language_info": {
   "codemirror_mode": {
    "name": "ipython",
    "version": 3
   },
   "file_extension": ".py",
   "mimetype": "text/x-python",
   "name": "python",
   "nbconvert_exporter": "python",
   "pygments_lexer": "ipython3",
   "version": "3.10.4"
  },
  "orig_nbformat": 4
 },
 "nbformat": 4,
 "nbformat_minor": 2
}
