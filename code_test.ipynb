{
 "cells": [
  {
   "cell_type": "code",
   "execution_count": 26,
   "metadata": {},
   "outputs": [
    {
     "name": "stdout",
     "output_type": "stream",
     "text": [
      "1923500191540736252 19\n"
     ]
    }
   ],
   "source": [
    "import hashlib\n",
    "s = '龚南桥2020211370'\n",
    "print( hash(s),len(str(hash(s))))"
   ]
  },
  {
   "cell_type": "code",
   "execution_count": 5,
   "metadata": {},
   "outputs": [
    {
     "name": "stdout",
     "output_type": "stream",
     "text": [
      "b' \\x91\\xf6Xs\\x89eL\\xe6\\xe5\\t/@E\\xfe\\xce'\n",
      "MD5 长度: 32 2091f6587389654ce6e5092f4045fece\n"
     ]
    }
   ],
   "source": [
    "s2 = b'!@abc'  # 定义字节型字符串\n",
    "md = hashlib.md5()  # 导入md5算法\n",
    "md.update(s2)  # 把值传给md5算法\n",
    "\n",
    "print(md.digest())  # 生成一个128位的2进制数\n",
    "print('MD5', '长度:', len(md.hexdigest()), md.hexdigest())"
   ]
  },
  {
   "cell_type": "code",
   "execution_count": null,
   "metadata": {},
   "outputs": [],
   "source": [
    "import csv\n",
    "\n",
    "filename=\"D:/Project/CQUPT_Express_Management_System/CQUPTEMS_QT/TKINTER/data_set/user_information.csv\"\n",
    "f=open(filename,\"r\")\n",
    "csv_reader=csv.reader(f)\n",
    "for i in csv_reader:\n",
    "    print(i)\n",
    "\n",
    "f.close()"
   ]
  },
  {
   "cell_type": "code",
   "execution_count": null,
   "metadata": {},
   "outputs": [],
   "source": [
    "\"\"\"\n",
    "生成每个人不同的取件码\n",
    "\"\"\"\n",
    "import csv\n",
    "\n",
    "filename_1=\"D:/Project/CQUPT_Express_Management_System/CQUPTEMS_QT/TKINTER/data_set/user_information.csv\"\n",
    "f_1=open(filename_1,\"r\")\n",
    "filename_2=\"D:/Project/CQUPT_Express_Management_System/MySQL_query/user_pickup_code.csv\"\n",
    "f_2=open(filename_2,\"w\")\n",
    "csv_reader=csv.reader(f_1)\n",
    "for i in csv_reader:\n",
    "    text=i[0]+i[1]\n",
    "    pickup_code=int(str(hash(text)))\n",
    "    if pickup_code<0:\n",
    "        pickup_code=(-1)*pickup_code\n",
    "    if len(str(pickup_code))<19:\n",
    "        while len(str(pickup_code))<19:\n",
    "            pickup_code=pickup_code*10\n",
    "        # pickup_code=pickup_code*10\n",
    "    pickup_code=str(pickup_code)\n",
    "    f_2.write(pickup_code+\"\\n\")\n",
    "    print(pickup_code,type(pickup_code),len(pickup_code))\n",
    "\n",
    "f_1.close()\n",
    "f_2.close()"
   ]
  },
  {
   "cell_type": "code",
   "execution_count": null,
   "metadata": {},
   "outputs": [],
   "source": [
    "import csv\n",
    "\n",
    "filename=\"D:/Project/CQUPT_Express_Management_System/CQUPTEMS_QT/TKINTER/data_set/user_information.csv\"\n",
    "f=open(filename, \"r\",encoding=\"utf-8\")\n",
    "# file=f.readlines()\n",
    "csv_reader=csv.reader(f)\n",
    "print(next(csv_reader))\n",
    "for i in csv_reader:\n",
    "    for j in i:\n",
    "        print(j,type(j))\n",
    "    # print(i[3],len(i[3]))\n",
    "\n",
    "\n",
    "\n",
    "f.close()"
   ]
  },
  {
   "cell_type": "code",
   "execution_count": 7,
   "metadata": {},
   "outputs": [
    {
     "name": "stdout",
     "output_type": "stream",
     "text": [
      "['17323483762']\n"
     ]
    }
   ],
   "source": [
    "filename=\"D:/Project/CQUPT_Express_Management_System/MySQL_query/user_phone_number.csv\"\n",
    "f=open(filename,\"r\")\n",
    "reader=csv.reader(f)\n",
    "print(next(reader))"
   ]
  },
  {
   "cell_type": "code",
   "execution_count": 9,
   "metadata": {},
   "outputs": [],
   "source": [
    "\"\"\"测试随机生成密码\"\"\"\n",
    "from faker import Faker\n",
    "import csv\n",
    "fake = Faker(locale='zh_CN')\n",
    "#打开相应文件并写入内容\n",
    "filename=\"D:/Project/CQUPT_Express_Management_System/MySQL_query/user_password.csv\"\n",
    "f=open(filename,'w',encoding='utf-8')\n",
    "#csv_reader=csv.reader(f)\n",
    "#header_row=next(csv_reader)\n",
    "#print(header_row)\n",
    "for i in range(282):\n",
    "    password=fake.password(length=6,special_chars=False)\n",
    "    f.write(password+'\\n')\n",
    "    \n",
    "f.close()"
   ]
  }
 ],
 "metadata": {
  "interpreter": {
   "hash": "9f14dabeff85c9722c6470b291f2ad493b57714dfb9b935c93f4f8ae66592bc2"
  },
  "kernelspec": {
   "display_name": "Python 3.10.4 ('CQUPTEMS')",
   "language": "python",
   "name": "python3"
  },
  "language_info": {
   "codemirror_mode": {
    "name": "ipython",
    "version": 3
   },
   "file_extension": ".py",
   "mimetype": "text/x-python",
   "name": "python",
   "nbconvert_exporter": "python",
   "pygments_lexer": "ipython3",
   "version": "3.10.4"
  },
  "orig_nbformat": 4
 },
 "nbformat": 4,
 "nbformat_minor": 2
}
